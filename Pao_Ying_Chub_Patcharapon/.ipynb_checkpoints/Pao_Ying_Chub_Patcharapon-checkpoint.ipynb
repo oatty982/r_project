{
 "cells": [
  {
   "cell_type": "code",
   "execution_count": 1,
   "metadata": {
    "datalore": {
     "hide_input_from_viewers": true,
     "hide_output_from_viewers": true,
     "node_id": "6c4TJ1uLdJ1OkO0sAuYzGe",
     "type": "CODE"
    },
    "tags": []
   },
   "outputs": [
    {
     "name": "stdin",
     "output_type": "stream",
     "text": [
      "Please select hand [1:rock, 2:paper, 3:scissors, 4:end]:  1\n",
      "Please select hand [1:rock, 2:paper, 3:scissors, 4:end]:  2\n",
      "Please select hand [1:rock, 2:paper, 3:scissors, 4:end]:  3\n",
      "Please select hand [1:rock, 2:paper, 3:scissors, 4:end]:  4\n"
     ]
    },
    {
     "name": "stdout",
     "output_type": "stream",
     "text": [
      "Game Start! \n",
      "Game:  1 \n",
      "!---- WIN ----! \n",
      "user_hands:   rock \n",
      "bot_hand:     scissors \n",
      "!---- Draw ----!\n",
      "user_hands:   paper \n",
      "bot_hand:     paper \n",
      "!---- Draw ----!\n",
      "user_hands:   scissors \n",
      "bot_hand:     scissors \n",
      "!---- END ----!\n",
      "WIN:    1 \n",
      "LOSE:   0 \n",
      "DRAW:   2 \n",
      "Total:  3 \n"
     ]
    }
   ],
   "source": [
    "pyc <- function() {\n",
    "  cat(\"Game Start! \\n\")\n",
    "  win <- 0\n",
    "  lose <- 0\n",
    "  draw <- 0\n",
    "  turn <- 0\n",
    "  hands <- c(\"rock\", \"paper\", \"scissors\") \n",
    "  \n",
    "  while(T){\n",
    "    bot_hands <-sample(1:3, size = 1)\n",
    "    user_hands <- as.numeric(readline(\"Please select hand [1:rock, 2:paper, 3:scissors, 4:end]: \"))\n",
    "    \n",
    "      if (user_hands == 4) {\n",
    "        cat(\"!---- END ----!\\n\")\n",
    "        cat(\"WIN:   \" ,win, \"\\n\")\n",
    "        cat(\"LOSE:  \" ,lose, \"\\n\")\n",
    "        cat(\"DRAW:  \" ,draw, \"\\n\")\n",
    "        cat(\"Total: \" ,turn, \"\\n\")\n",
    "        break\n",
    "      } else if (user_hands == bot_hands) {\n",
    "        turn <- turn + 1\n",
    "        draw <- draw + 1\n",
    "        cat(\"!---- Draw ----!\\n\")\n",
    "      } else if (hands[user_hands] == \"rock\" & hands[bot_hands] == \"scissors\") {\n",
    "        turn <- turn + 1\n",
    "        win <- win + 1\n",
    "        cat(\"Game: \", turn,\"\\n\")\n",
    "        cat(\"!---- WIN ----! \\n\")\n",
    "      } else if (hands[user_hands] == \"paper\" & hands[bot_hands] == \"rock\") {\n",
    "        turn <- turn + 1\n",
    "        win <- win + 1\n",
    "        cat(\"Game: \", turn,\"\\n\")\n",
    "        cat(\"!---- WIN ----! \\n\")\n",
    "      } else if (hands[user_hands] == \"scissors\" & hands[bot_hands] == \"paper\") {\n",
    "        turn <- turn + 1\n",
    "        win <- win + 1\n",
    "        cat(\"Game: \", turn,\"\\n\")\n",
    "        cat(\"!---- WIN ----! \\n\")\n",
    "      } else {\n",
    "        turn <- turn + 1\n",
    "        lose <- lose + 1\n",
    "        cat(\"!---- LOSER ----!\\n\")\n",
    "      }\n",
    "      cat(\"user_hands:  \", hands[user_hands],\"\\n\")\n",
    "      cat(\"bot_hand:    \", hands[bot_hands], \"\\n\")\n",
    "  }\n",
    "}\n",
    "\n",
    "pyc ()"
   ]
  },
  {
   "cell_type": "code",
   "execution_count": null,
   "metadata": {},
   "outputs": [],
   "source": []
  }
 ],
 "metadata": {
  "datalore": {
   "base_environment": "minimal",
   "computation_mode": "JUPYTER",
   "package_manager": "conda",
   "packages": [],
   "report_row_ids": [],
   "version": 3
  },
  "kernelspec": {
   "display_name": "R",
   "language": "R",
   "name": "ir"
  },
  "language_info": {
   "codemirror_mode": "r",
   "file_extension": ".r",
   "mimetype": "text/x-r-source",
   "name": "R",
   "pygments_lexer": "r",
   "version": "4.2.3"
  }
 },
 "nbformat": 4,
 "nbformat_minor": 4
}
