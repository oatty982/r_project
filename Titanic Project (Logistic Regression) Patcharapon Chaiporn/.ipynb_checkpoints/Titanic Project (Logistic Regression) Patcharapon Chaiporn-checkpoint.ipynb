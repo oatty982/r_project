{
 "cells": [
  {
   "cell_type": "markdown",
   "metadata": {
    "datalore": {
     "hide_input_from_viewers": true,
     "hide_output_from_viewers": true,
     "node_id": "vlrkBKaLqlWXAVc61V6gmH",
     "type": "MD"
    }
   },
   "source": [
    "Titanic Project (Logistic Regression)"
   ]
  },
  {
   "cell_type": "code",
   "execution_count": null,
   "metadata": {
    "tags": []
   },
   "outputs": [
    {
     "name": "stderr",
     "output_type": "stream",
     "text": [
      "Installing package into ‘/usr/local/spark-3.4.0-bin-hadoop3/R/lib’\n",
      "(as ‘lib’ is unspecified)\n",
      "\n",
      "also installing the dependencies ‘bit64’, ‘processx’, ‘cellranger’, ‘ids’, ‘timechange’, ‘systemfonts’, ‘textshaping’, ‘clipr’, ‘vroom’, ‘tzdb’, ‘progress’, ‘callr’, ‘selectr’, ‘broom’, ‘conflicted’, ‘dtplyr’, ‘forcats’, ‘googledrive’, ‘googlesheets4’, ‘haven’, ‘hms’, ‘lubridate’, ‘modelr’, ‘ragg’, ‘readr’, ‘readxl’, ‘reprex’, ‘rvest’\n",
      "\n",
      "\n"
     ]
    }
   ],
   "source": [
    "install.packages(\"tidyverse\")\n"
   ]
  },
  {
   "cell_type": "code",
   "execution_count": null,
   "metadata": {
    "datalore": {
     "hide_input_from_viewers": true,
     "hide_output_from_viewers": true,
     "node_id": "m4zRgRPAza89dBV8tnJnm3",
     "type": "CODE"
    },
    "tags": []
   },
   "outputs": [],
   "source": [
    "#### Titanic Project\n",
    "library(tidyverse)\n",
    "titanic <- read.csv(\"https://raw.githubusercontent.com/datasciencedojo/datasets/master/titanic.csv\")\n",
    "\n",
    "as_tibble(titanic)"
   ]
  },
  {
   "cell_type": "code",
   "execution_count": 3,
   "metadata": {
    "datalore": {
     "hide_input_from_viewers": true,
     "hide_output_from_viewers": true,
     "node_id": "R7K9nM46Qe0BIAdhVKTWAu",
     "type": "CODE"
    }
   },
   "outputs": [
    {
     "name": "stdout",
     "output_type": "stream",
     "text": [
      "Rows: 891\n",
      "Columns: 12\n",
      "$ PassengerId \u001b[3m\u001b[90m<int>\u001b[39m\u001b[23m 1, 2, 3, 4, 5, 6, 7, 8, 9, 10, 11, 12, 13, 14, 15, 16, 17,…\n",
      "$ Survived    \u001b[3m\u001b[90m<int>\u001b[39m\u001b[23m 0, 1, 1, 1, 0, 0, 0, 0, 1, 1, 1, 1, 0, 0, 0, 1, 0, 1, 0, 1…\n",
      "$ Pclass      \u001b[3m\u001b[90m<int>\u001b[39m\u001b[23m 3, 1, 3, 1, 3, 3, 1, 3, 3, 2, 3, 1, 3, 3, 3, 2, 3, 2, 3, 3…\n",
      "$ Name        \u001b[3m\u001b[90m<chr>\u001b[39m\u001b[23m \"Braund, Mr. Owen Harris\", \"Cumings, Mrs. John Bradley (Fl…\n",
      "$ Sex         \u001b[3m\u001b[90m<chr>\u001b[39m\u001b[23m \"male\", \"female\", \"female\", \"female\", \"male\", \"male\", \"mal…\n",
      "$ Age         \u001b[3m\u001b[90m<dbl>\u001b[39m\u001b[23m 22, 38, 26, 35, 35, NA, 54, 2, 27, 14, 4, 58, 20, 39, 14, …\n",
      "$ SibSp       \u001b[3m\u001b[90m<int>\u001b[39m\u001b[23m 1, 1, 0, 1, 0, 0, 0, 3, 0, 1, 1, 0, 0, 1, 0, 0, 4, 0, 1, 0…\n",
      "$ Parch       \u001b[3m\u001b[90m<int>\u001b[39m\u001b[23m 0, 0, 0, 0, 0, 0, 0, 1, 2, 0, 1, 0, 0, 5, 0, 0, 1, 0, 0, 0…\n",
      "$ Ticket      \u001b[3m\u001b[90m<chr>\u001b[39m\u001b[23m \"A/5 21171\", \"PC 17599\", \"STON/O2. 3101282\", \"113803\", \"37…\n",
      "$ Fare        \u001b[3m\u001b[90m<dbl>\u001b[39m\u001b[23m 7.2500, 71.2833, 7.9250, 53.1000, 8.0500, 8.4583, 51.8625,…\n",
      "$ Cabin       \u001b[3m\u001b[90m<chr>\u001b[39m\u001b[23m \"\", \"C85\", \"\", \"C123\", \"\", \"\", \"E46\", \"\", \"\", \"\", \"G6\", \"C…\n",
      "$ Embarked    \u001b[3m\u001b[90m<chr>\u001b[39m\u001b[23m \"S\", \"C\", \"S\", \"S\", \"S\", \"Q\", \"S\", \"S\", \"S\", \"C\", \"S\", \"S\"…\n"
     ]
    }
   ],
   "source": [
    "# ก่อนเปลี่ยน Sex เป็น factor\n",
    "glimpse(titanic)"
   ]
  },
  {
   "cell_type": "code",
   "execution_count": 4,
   "metadata": {
    "datalore": {
     "hide_input_from_viewers": true,
     "hide_output_from_viewers": true,
     "node_id": "xW3l8qK4TgpWl2kb6LJ1iD",
     "type": "CODE"
    }
   },
   "outputs": [
    {
     "name": "stdout",
     "output_type": "stream",
     "text": [
      "Rows: 714\n",
      "Columns: 12\n",
      "$ PassengerId \u001b[3m\u001b[90m<int>\u001b[39m\u001b[23m 1, 2, 3, 4, 5, 7, 8, 9, 10, 11, 12, 13, 14, 15, 16, 17, 19…\n",
      "$ Survived    \u001b[3m\u001b[90m<int>\u001b[39m\u001b[23m 0, 1, 1, 1, 0, 0, 0, 1, 1, 1, 1, 0, 0, 0, 1, 0, 0, 0, 1, 1…\n",
      "$ Pclass      \u001b[3m\u001b[90m<int>\u001b[39m\u001b[23m 3, 1, 3, 1, 3, 1, 3, 3, 2, 3, 1, 3, 3, 3, 2, 3, 3, 2, 2, 3…\n",
      "$ Name        \u001b[3m\u001b[90m<chr>\u001b[39m\u001b[23m \"Braund, Mr. Owen Harris\", \"Cumings, Mrs. John Bradley (Fl…\n",
      "$ Sex         \u001b[3m\u001b[90m<fct>\u001b[39m\u001b[23m 1, 0, 0, 0, 1, 1, 1, 0, 0, 0, 0, 1, 1, 0, 0, 1, 0, 1, 1, 0…\n",
      "$ Age         \u001b[3m\u001b[90m<dbl>\u001b[39m\u001b[23m 22, 38, 26, 35, 35, 54, 2, 27, 14, 4, 58, 20, 39, 14, 55, …\n",
      "$ SibSp       \u001b[3m\u001b[90m<int>\u001b[39m\u001b[23m 1, 1, 0, 1, 0, 0, 3, 0, 1, 1, 0, 0, 1, 0, 0, 4, 1, 0, 0, 0…\n",
      "$ Parch       \u001b[3m\u001b[90m<int>\u001b[39m\u001b[23m 0, 0, 0, 0, 0, 0, 1, 2, 0, 1, 0, 0, 5, 0, 0, 1, 0, 0, 0, 0…\n",
      "$ Ticket      \u001b[3m\u001b[90m<chr>\u001b[39m\u001b[23m \"A/5 21171\", \"PC 17599\", \"STON/O2. 3101282\", \"113803\", \"37…\n",
      "$ Fare        \u001b[3m\u001b[90m<dbl>\u001b[39m\u001b[23m 7.2500, 71.2833, 7.9250, 53.1000, 8.0500, 51.8625, 21.0750…\n",
      "$ Cabin       \u001b[3m\u001b[90m<chr>\u001b[39m\u001b[23m \"\", \"C85\", \"\", \"C123\", \"\", \"E46\", \"\", \"\", \"\", \"G6\", \"C103\"…\n",
      "$ Embarked    \u001b[3m\u001b[90m<chr>\u001b[39m\u001b[23m \"S\", \"C\", \"S\", \"S\", \"S\", \"S\", \"S\", \"S\", \"C\", \"S\", \"S\", \"S\"…\n"
     ]
    }
   ],
   "source": [
    "## Drop NA\n",
    "titanic <- na.omit(titanic)\n",
    "\n",
    "## Change chr to fct\n",
    "titanic$Sex <- if_else(titanic$Sex == \"male\", 1, 0)\n",
    "titanic$Sex <- as.factor(titanic$Sex)\n",
    "glimpse(titanic)"
   ]
  },
  {
   "cell_type": "markdown",
   "metadata": {
    "datalore": {
     "hide_input_from_viewers": true,
     "hide_output_from_viewers": true,
     "node_id": "Ec9c6qwl4o5WUGsZjqMW9f",
     "type": "MD"
    }
   },
   "source": [
    "**Split data**"
   ]
  },
  {
   "cell_type": "code",
   "execution_count": 5,
   "metadata": {
    "datalore": {
     "hide_input_from_viewers": true,
     "hide_output_from_viewers": true,
     "node_id": "fySJype0VumLnWusJP26oy",
     "type": "CODE"
    }
   },
   "outputs": [],
   "source": [
    "# set.seed คือเลขสุ่มแบบทำซ้ำ\n",
    "set.seed(22)\n",
    "\n",
    "# nrow จะได้จำนวน row ทั้งหมด ใน titanic เข้าไปใน n\n",
    "n <- nrow(titanic) # 714\n",
    "\n",
    "# sample(x, size, replace = FALSE, prob = NULL)\n",
    "# sample สุ่มข้อมูลตัวอย่างใน data set titanic\n",
    "# https://www.digitalocean.com/community/tutorials/sample-in-r\n",
    "\n",
    "id <- sample(1:n, size = n*0.7) # train70, test 30\n",
    "\n",
    "train_data <- titanic[id, ]\n",
    "test_data <- titanic[-id, ]"
   ]
  },
  {
   "cell_type": "markdown",
   "metadata": {
    "datalore": {
     "hide_input_from_viewers": true,
     "hide_output_from_viewers": true,
     "node_id": "HNJ9Ah2jDFISL6rkTGfo8R",
     "type": "MD"
    }
   },
   "source": [
    "**Train Model**\n",
    "URL : https://www.statmethods.net/advstats/glm.html"
   ]
  },
  {
   "cell_type": "code",
   "execution_count": 6,
   "metadata": {
    "datalore": {
     "hide_input_from_viewers": true,
     "hide_output_from_viewers": true,
     "node_id": "yM1igFI1eaQIe20KiADs7y",
     "type": "CODE"
    }
   },
   "outputs": [
    {
     "data": {
      "text/plain": [
       "\n",
       "Call:\n",
       "glm(formula = Survived ~ Pclass + Sex + Age + Parch + SibSp, \n",
       "    family = \"binomial\", data = train_data)\n",
       "\n",
       "Deviance Residuals: \n",
       "    Min       1Q   Median       3Q      Max  \n",
       "-2.6712  -0.6436  -0.3752   0.6025   2.3822  \n",
       "\n",
       "Coefficients:\n",
       "             Estimate Std. Error z value Pr(>|z|)    \n",
       "(Intercept)  5.800685   0.659712   8.793  < 2e-16 ***\n",
       "Pclass      -1.240017   0.166803  -7.434 1.05e-13 ***\n",
       "Sex1        -2.749011   0.272144 -10.101  < 2e-16 ***\n",
       "Age         -0.046420   0.009848  -4.713 2.44e-06 ***\n",
       "Parch       -0.290975   0.156444  -1.860   0.0629 .  \n",
       "SibSp       -0.346899   0.152104  -2.281   0.0226 *  \n",
       "---\n",
       "Signif. codes:  0 ‘***’ 0.001 ‘**’ 0.01 ‘*’ 0.05 ‘.’ 0.1 ‘ ’ 1\n",
       "\n",
       "(Dispersion parameter for binomial family taken to be 1)\n",
       "\n",
       "    Null deviance: 679.83  on 498  degrees of freedom\n",
       "Residual deviance: 451.31  on 493  degrees of freedom\n",
       "AIC: 463.31\n",
       "\n",
       "Number of Fisher Scoring iterations: 5\n"
      ]
     },
     "metadata": {},
     "output_type": "display_data"
    }
   ],
   "source": [
    "# Logistic Regression = binomial\n",
    "# https://www.datacamp.com/tutorial/generalized-linear-models\n",
    "train_model <- glm(Survived ~ Pclass + Sex + Age + Parch + SibSp, \n",
    "                   data = train_data, \n",
    "                   family = \"binomial\")\n",
    "summary(train_model)"
   ]
  },
  {
   "cell_type": "code",
   "execution_count": 7,
   "metadata": {
    "datalore": {
     "hide_input_from_viewers": true,
     "hide_output_from_viewers": true,
     "node_id": "WuwjtvYyY9vrB59qQxZOAF",
     "type": "CODE"
    }
   },
   "outputs": [
    {
     "data": {
      "text/html": [
       "<style>\n",
       ".list-inline {list-style: none; margin:0; padding: 0}\n",
       ".list-inline>li {display: inline-block}\n",
       ".list-inline>li:not(:last-child)::after {content: \"\\00b7\"; padding: 0 .5ex}\n",
       "</style>\n",
       "<ol class=list-inline><li>0.0529227925393302</li><li>0.322683284407678</li><li>0.0997278486302909</li><li>0.44880604581964</li><li>0.647872560006494</li><li>0.205289905300945</li><li>0.0652564489605263</li><li>0.0773596079134527</li><li>0.0596758415782217</li><li>0.83542986124398</li><li>0.141313406261542</li><li>0.698486356875541</li><li>0.926321004955715</li><li>0.245742042566395</li><li>0.0956368677699899</li><li>0.0775073943477907</li><li>0.902665018857762</li><li>0.0475691149484594</li><li>0.136788545601348</li><li>0.46555414844417</li><li>0.132928611287322</li><li>0.806674139764213</li><li>0.0773596079134527</li><li>0.117681591549727</li><li>0.162029171204273</li><li>0.751346075087883</li><li>0.959614252101231</li><li>0.730985561931695</li><li>0.312622309890318</li><li>0.249834262009921</li><li>0.922105726766185</li><li>0.848180354295767</li><li>0.904869407827112</li><li>0.786274936924267</li><li>0.74289029622674</li><li>0.168431230155402</li><li>0.512533981722135</li><li>0.183631711997893</li><li>0.90490731336284</li><li>0.434398229218245</li><li>0.0642966308912695</li><li>0.873032030369987</li><li>0.109544811031064</li><li>0.801602317430782</li><li>0.892102234249488</li><li>0.132928611287322</li><li>0.103973706888743</li><li>0.742572782097645</li><li>0.50093149783538</li><li>0.78402552084716</li><li>0.942496746506677</li><li>0.177768702430962</li><li>0.175033408768513</li><li>0.249586471166774</li><li>0.0162466245324772</li><li>0.0623345746787794</li><li>0.797540403607752</li><li>0.920546257098873</li><li>0.51004939475192</li><li>0.138370719887744</li><li>0.118934588194856</li><li>0.717329339807861</li><li>0.703445349542773</li><li>0.165205327692728</li><li>0.911532062285574</li><li>0.136788545601348</li><li>0.594980279946344</li><li>0.0546058537579534</li><li>0.052323941157415</li><li>0.909502978461877</li><li>0.162029171204273</li><li>0.473833033987808</li><li>0.83882546021033</li><li>0.091696611887311</li><li>0.064652534190995</li><li>0.685865700189899</li><li>0.305556988765249</li><li>0.912601511126499</li><li>0.182926100062318</li><li>0.742572782097645</li><li>0.614309508942394</li><li>0.0711533356930547</li><li>0.143998627365916</li><li>0.733599694804216</li><li>0.045833627133299</li><li>0.175033408768513</li><li>0.45093959704488</li><li>0.738353476197457</li><li>0.151238812660117</li><li>0.0294420709338874</li><li>0.423921486207664</li><li>0.387091694242258</li><li>0.956757607910934</li><li>0.841595530039312</li><li>0.112946520664619</li><li>0.162029171204273</li><li>0.367310149615629</li><li>0.378473912407493</li><li>0.0651035608943163</li><li>0.132928611287322</li><li>0.0807385565679331</li><li>0.5465996328323</li><li>0.149815636597994</li><li>0.0801885038027981</li><li>0.184794673531778</li><li>0.138370719887744</li><li>0.425738041718729</li><li>0.962617112648259</li><li>0.307923791789901</li><li>0.168431230155402</li><li>0.0836798077126073</li><li>0.201327338673439</li><li>0.966226969119297</li><li>0.747221616268793</li><li>0.810210789593116</li><li>0.122587738139209</li><li>0.873032030369987</li><li>0.875301596038014</li><li>0.603254282739565</li><li>0.971776681809724</li><li>0.389830262250615</li><li>0.338366434387078</li><li>0.063779921417411</li><li>0.203044785264985</li><li>0.245742042566395</li><li>0.067174206591769</li><li>0.161969380807147</li><li>0.437134810871399</li><li>0.33291122946317</li><li>0.102737942266148</li><li>0.181837790254735</li><li>0.111486318017474</li><li>0.103973706888743</li><li>0.0825730559383949</li><li>0.367617560838273</li><li>0.575480336893794</li><li>0.457332107133724</li><li>0.132928611287322</li><li>0.103973706888743</li><li>0.143998627365916</li><li>0.730985561931695</li><li>0.845118606467186</li><li>0.19605987213178</li><li>0.511917678006073</li><li>0.267634875669944</li><li>0.138370719887744</li><li>0.494088793261485</li><li>0.768283678885995</li><li>0.708341212030282</li><li>0.179797391291791</li><li>0.138370719887744</li><li>0.0956368677699899</li><li>0.419778252126724</li><li>0.122587738139209</li><li>0.755180825753242</li><li>0.183499505375821</li><li>0.076413185730651</li><li>0.0367769745948566</li><li>0.0405793952582481</li><li>0.149815636597994</li><li>0.168431230155402</li><li>0.378473912407493</li><li>0.506430673634057</li><li>0.155824855057941</li><li>0.721937039277106</li><li>0.887551991751296</li><li>0.168431230155402</li><li>0.843248566510324</li><li>0.0596758415782217</li><li>0.279242347758975</li><li>0.0937547008864221</li><li>0.955858671068244</li><li>0.181837790254735</li><li>0.448587831061834</li><li>0.923937905846437</li><li>0.271698425925406</li><li>0.281755513182728</li><li>0.155824855057941</li><li>0.865257468576488</li><li>0.108621275815852</li><li>0.224652294616011</li><li>0.325604578116331</li><li>0.0623345746787794</li><li>0.394255247848837</li><li>0.892102234249488</li><li>0.5465996328323</li><li>0.665526401667215</li><li>0.634429779437259</li><li>0.168431230155402</li><li>0.175033408768513</li><li>0.171885673021792</li><li>0.143998627365916</li><li>0.469783379341044</li><li>0.0597920345597552</li><li>0.959614252101231</li><li>0.045833627133299</li><li>0.558077050310665</li><li>0.378473912407493</li><li>0.0879029160823057</li><li>0.655115036062101</li><li>⋯</li><li>0.561027016881663</li><li>0.364523071691447</li><li>0.162029171204273</li><li>0.234218979095935</li><li>0.431124837753612</li><li>0.408515845656432</li><li>0.941295200270037</li><li>0.0966808660328357</li><li>0.431124837753612</li><li>0.112946520664619</li><li>0.930153754119752</li><li>0.0173613522192886</li><li>0.312622309890318</li><li>0.930211043435251</li><li>0.636060155247665</li><li>0.22480598739151</li><li>0.127668826090509</li><li>0.695499825254611</li><li>0.949595337365325</li><li>0.155824855057941</li><li>0.593293800930805</li><li>0.168431230155402</li><li>0.458238920020331</li><li>0.721937039277106</li><li>0.127668826090509</li><li>0.687918657915317</li><li>0.295796796661809</li><li>0.600270092897159</li><li>0.660340091092177</li><li>0.19605987213178</li><li>0.0807385565679331</li><li>0.896571654361939</li><li>0.792145452020928</li><li>0.27312011847974</li><li>0.832573420244988</li><li>0.535686046207505</li><li>0.26520115594663</li><li>0.535072461328827</li><li>0.256086259987862</li><li>0.103973706888743</li><li>0.742572782097645</li><li>0.175033408768513</li><li>0.0322141330215377</li><li>0.776444525303732</li><li>0.258634865257509</li><li>0.772377946144535</li><li>0.143998627365916</li><li>0.95863793094936</li><li>0.378473912407493</li><li>0.315494947005267</li><li>0.735940654342481</li><li>0.920514037925605</li><li>0.5465996328323</li><li>0.705515445631334</li><li>0.900837058078271</li><li>0.949595337365325</li><li>0.115420947420573</li><li>0.122587738139209</li><li>0.276831124625927</li><li>0.774121368591305</li><li>0.0619014609020289</li><li>0.112946520664619</li><li>0.812118226439792</li><li>0.876606811260923</li><li>0.9268773797567</li><li>0.874260649757227</li><li>0.175033408768513</li><li>0.939978414050953</li><li>0.155824855057941</li><li>0.917870343808305</li><li>0.117681591549727</li><li>0.655115036062101</li><li>0.190693086114585</li><li>0.971445352642013</li><li>0.769736795094046</li><li>0.552655502648834</li><li>0.367617560838273</li><li>0.0741106694368772</li><li>0.057099884855337</li><li>0.108378568960751</li><li>0.64673656339433</li><li>0.0473422674004753</li><li>0.504561714256431</li><li>0.10509813621242</li><li>0.691112619026219</li><li>0.715067074741541</li><li>0.120113036431757</li><li>0.670103546097822</li><li>0.910834393044679</li><li>0.86625938827062</li><li>0.859601765937899</li><li>0.776444525303732</li><li>0.460314778742382</li><li>0.188846138481564</li><li>0.475685117379697</li><li>0.0997278486302909</li><li>0.569492759867734</li><li>0.175033408768513</li><li>0.112946520664619</li><li>0.205289905300945</li><li>0.325604578116331</li><li>0.184794673531778</li><li>0.155824855057941</li><li>0.132928611287322</li><li>0.42544172766942</li><li>0.0244658683326709</li><li>0.116258792908413</li><li>0.0479070689623552</li><li>0.942496746506677</li><li>0.230913035654778</li><li>0.381095567273921</li><li>0.336694608299461</li><li>0.644249610665544</li><li>0.0651035608943163</li><li>0.820871867524046</li><li>0.305556988765249</li><li>0.778522656492911</li><li>0.866498879868388</li><li>0.630952782362174</li><li>0.918804205091199</li><li>0.737783248622982</li><li>0.378473912407493</li><li>0.423029556604512</li><li>0.882971793814277</li><li>0.662551547665849</li><li>0.0546741705891501</li><li>0.19605987213178</li><li>0.0679866308012672</li><li>0.138370719887744</li><li>0.926321004955715</li><li>0.958754728364721</li><li>0.792145452020928</li><li>0.489328010690134</li><li>0.83882546021033</li><li>0.971445352642013</li><li>0.863695222793834</li><li>0.267634875669944</li><li>0.930153754119752</li><li>0.0449717291439368</li><li>0.166388257287316</li><li>0.934467437656236</li><li>0.127668826090509</li><li>0.776214871175516</li><li>0.900837058078271</li><li>0.431124837753612</li><li>0.120113036431757</li><li>0.611354901249178</li><li>0.114155624257478</li><li>0.305556988765249</li><li>0.112946520664619</li><li>0.0439511057953471</li><li>0.181641110095545</li><li>0.166571783397862</li><li>0.457332107133724</li><li>0.488711635670353</li><li>0.148125094866561</li><li>0.179596173347555</li><li>0.356893800656774</li><li>0.11834513451894</li><li>0.835834991839313</li><li>0.335879200563981</li><li>0.850986029675114</li><li>0.931566760325969</li><li>0.103973706888743</li><li>0.0552983509493543</li><li>0.155824855057941</li><li>0.842105681938182</li><li>0.155824855057941</li><li>0.968465217565927</li><li>0.968465217565927</li><li>0.109789808015808</li><li>0.12619109892732</li><li>0.22508965423718</li><li>0.87808912313601</li><li>0.580835067873938</li><li>0.400546182547408</li><li>0.408515845656432</li><li>0.392313439850236</li><li>0.188846138481564</li><li>0.103973706888743</li><li>0.87927557390374</li><li>0.317903488931648</li><li>0.142362734257207</li><li>0.959614252101231</li><li>0.535072461328827</li><li>0.625248050625118</li><li>0.0623345746787794</li><li>0.914302398804055</li><li>0.117681591549727</li><li>0.249834262009921</li><li>0.919728376471691</li><li>0.249834262009921</li><li>0.250304819924208</li><li>0.882971793814277</li><li>0.595584794018519</li><li>0.108378568960751</li><li>0.813944205031131</li><li>0.0956368677699899</li><li>0.742572782097645</li><li>0.056061870781096</li></ol>\n"
      ]
     },
     "metadata": {},
     "output_type": "display_data"
    }
   ],
   "source": [
    "# Predict & Evaluate Train Model\n",
    "# https://stat.ethz.ch/R-manual/R-devel/library/stats/html/predict.glm.html\n",
    "\n",
    "train_data$prob_survived <- predict(train_model, type = \"response\")\n",
    "train_data$prob_survived"
   ]
  },
  {
   "cell_type": "code",
   "execution_count": 8,
   "metadata": {
    "datalore": {
     "hide_input_from_viewers": true,
     "hide_output_from_viewers": true,
     "node_id": "x3orNeoMDAqYtwy9hyJoHF",
     "type": "CODE"
    }
   },
   "outputs": [
    {
     "data": {
      "text/html": [
       "<style>\n",
       ".list-inline {list-style: none; margin:0; padding: 0}\n",
       ".list-inline>li {display: inline-block}\n",
       ".list-inline>li:not(:last-child)::after {content: \"\\00b7\"; padding: 0 .5ex}\n",
       "</style>\n",
       "<ol class=list-inline><li>0</li><li>0</li><li>0</li><li>0</li><li>1</li><li>0</li><li>0</li><li>0</li><li>0</li><li>1</li><li>0</li><li>1</li><li>1</li><li>0</li><li>0</li><li>0</li><li>1</li><li>0</li><li>0</li><li>0</li><li>0</li><li>1</li><li>0</li><li>0</li><li>0</li><li>1</li><li>1</li><li>1</li><li>0</li><li>0</li><li>1</li><li>1</li><li>1</li><li>1</li><li>1</li><li>0</li><li>1</li><li>0</li><li>1</li><li>0</li><li>0</li><li>1</li><li>0</li><li>1</li><li>1</li><li>0</li><li>0</li><li>1</li><li>1</li><li>1</li><li>1</li><li>0</li><li>0</li><li>0</li><li>0</li><li>0</li><li>1</li><li>1</li><li>1</li><li>0</li><li>0</li><li>1</li><li>1</li><li>0</li><li>1</li><li>0</li><li>1</li><li>0</li><li>0</li><li>1</li><li>0</li><li>0</li><li>1</li><li>0</li><li>0</li><li>1</li><li>0</li><li>1</li><li>0</li><li>1</li><li>1</li><li>0</li><li>0</li><li>1</li><li>0</li><li>0</li><li>0</li><li>1</li><li>0</li><li>0</li><li>0</li><li>0</li><li>1</li><li>1</li><li>0</li><li>0</li><li>0</li><li>0</li><li>0</li><li>0</li><li>0</li><li>1</li><li>0</li><li>0</li><li>0</li><li>0</li><li>0</li><li>1</li><li>0</li><li>0</li><li>0</li><li>0</li><li>1</li><li>1</li><li>1</li><li>0</li><li>1</li><li>1</li><li>1</li><li>1</li><li>0</li><li>0</li><li>0</li><li>0</li><li>0</li><li>0</li><li>0</li><li>0</li><li>0</li><li>0</li><li>0</li><li>0</li><li>0</li><li>0</li><li>0</li><li>1</li><li>0</li><li>0</li><li>0</li><li>0</li><li>1</li><li>1</li><li>0</li><li>1</li><li>0</li><li>0</li><li>0</li><li>1</li><li>1</li><li>0</li><li>0</li><li>0</li><li>0</li><li>0</li><li>1</li><li>0</li><li>0</li><li>0</li><li>0</li><li>0</li><li>0</li><li>0</li><li>1</li><li>0</li><li>1</li><li>1</li><li>0</li><li>1</li><li>0</li><li>0</li><li>0</li><li>1</li><li>0</li><li>0</li><li>1</li><li>0</li><li>0</li><li>0</li><li>1</li><li>0</li><li>0</li><li>0</li><li>0</li><li>0</li><li>1</li><li>1</li><li>1</li><li>1</li><li>0</li><li>0</li><li>0</li><li>0</li><li>0</li><li>0</li><li>1</li><li>0</li><li>1</li><li>0</li><li>0</li><li>1</li><li>⋯</li><li>1</li><li>0</li><li>0</li><li>0</li><li>0</li><li>0</li><li>1</li><li>0</li><li>0</li><li>0</li><li>1</li><li>0</li><li>0</li><li>1</li><li>1</li><li>0</li><li>0</li><li>1</li><li>1</li><li>0</li><li>1</li><li>0</li><li>0</li><li>1</li><li>0</li><li>1</li><li>0</li><li>1</li><li>1</li><li>0</li><li>0</li><li>1</li><li>1</li><li>0</li><li>1</li><li>1</li><li>0</li><li>1</li><li>0</li><li>0</li><li>1</li><li>0</li><li>0</li><li>1</li><li>0</li><li>1</li><li>0</li><li>1</li><li>0</li><li>0</li><li>1</li><li>1</li><li>1</li><li>1</li><li>1</li><li>1</li><li>0</li><li>0</li><li>0</li><li>1</li><li>0</li><li>0</li><li>1</li><li>1</li><li>1</li><li>1</li><li>0</li><li>1</li><li>0</li><li>1</li><li>0</li><li>1</li><li>0</li><li>1</li><li>1</li><li>1</li><li>0</li><li>0</li><li>0</li><li>0</li><li>1</li><li>0</li><li>1</li><li>0</li><li>1</li><li>1</li><li>0</li><li>1</li><li>1</li><li>1</li><li>1</li><li>1</li><li>0</li><li>0</li><li>0</li><li>0</li><li>1</li><li>0</li><li>0</li><li>0</li><li>0</li><li>0</li><li>0</li><li>0</li><li>0</li><li>0</li><li>0</li><li>0</li><li>1</li><li>0</li><li>0</li><li>0</li><li>1</li><li>0</li><li>1</li><li>0</li><li>1</li><li>1</li><li>1</li><li>1</li><li>1</li><li>0</li><li>0</li><li>1</li><li>1</li><li>0</li><li>0</li><li>0</li><li>0</li><li>1</li><li>1</li><li>1</li><li>0</li><li>1</li><li>1</li><li>1</li><li>0</li><li>1</li><li>0</li><li>0</li><li>1</li><li>0</li><li>1</li><li>1</li><li>0</li><li>0</li><li>1</li><li>0</li><li>0</li><li>0</li><li>0</li><li>0</li><li>0</li><li>0</li><li>0</li><li>0</li><li>0</li><li>0</li><li>0</li><li>1</li><li>0</li><li>1</li><li>1</li><li>0</li><li>0</li><li>0</li><li>1</li><li>0</li><li>1</li><li>1</li><li>0</li><li>0</li><li>0</li><li>1</li><li>1</li><li>0</li><li>0</li><li>0</li><li>0</li><li>0</li><li>1</li><li>0</li><li>0</li><li>1</li><li>1</li><li>1</li><li>0</li><li>1</li><li>0</li><li>0</li><li>1</li><li>0</li><li>0</li><li>1</li><li>1</li><li>0</li><li>1</li><li>0</li><li>1</li><li>0</li></ol>\n"
      ]
     },
     "metadata": {},
     "output_type": "display_data"
    }
   ],
   "source": [
    "train_data$pred_survived <- ifelse(train_data$prob_survived >= 0.5, 1, 0)\n",
    "train_data$pred_survived"
   ]
  },
  {
   "cell_type": "code",
   "execution_count": 9,
   "metadata": {
    "datalore": {
     "hide_input_from_viewers": true,
     "hide_output_from_viewers": true,
     "node_id": "RA2JrAjICFggFJR4JLuqm1",
     "type": "CODE"
    }
   },
   "outputs": [
    {
     "name": "stdout",
     "output_type": "stream",
     "text": [
      "Rows: 499\n",
      "Columns: 14\n",
      "$ PassengerId   \u001b[3m\u001b[90m<int>\u001b[39m\u001b[23m 617, 493, 753, 408, 375, 477, 393, 401, 339, 248, 722, 3…\n",
      "$ Survived      \u001b[3m\u001b[90m<int>\u001b[39m\u001b[23m 0, 0, 0, 1, 0, 0, 0, 1, 1, 1, 0, 1, 1, 0, 0, 0, 1, 0, 0,…\n",
      "$ Pclass        \u001b[3m\u001b[90m<int>\u001b[39m\u001b[23m 3, 1, 3, 2, 3, 2, 3, 3, 3, 2, 3, 1, 2, 2, 3, 3, 1, 3, 2,…\n",
      "$ Name          \u001b[3m\u001b[90m<chr>\u001b[39m\u001b[23m \"Danbom, Mr. Ernst Gilbert\", \"Molson, Mr. Harry Markland…\n",
      "$ Sex           \u001b[3m\u001b[90m<fct>\u001b[39m\u001b[23m 1, 1, 1, 1, 0, 1, 1, 1, 1, 0, 1, 1, 0, 1, 1, 1, 0, 1, 1,…\n",
      "$ Age           \u001b[3m\u001b[90m<dbl>\u001b[39m\u001b[23m 34.00, 55.00, 33.00, 3.00, 3.00, 34.00, 28.00, 39.00, 45…\n",
      "$ SibSp         \u001b[3m\u001b[90m<int>\u001b[39m\u001b[23m 1, 0, 0, 1, 3, 1, 2, 0, 0, 0, 1, 1, 0, 1, 0, 3, 0, 4, 0,…\n",
      "$ Parch         \u001b[3m\u001b[90m<int>\u001b[39m\u001b[23m 1, 0, 0, 1, 1, 0, 0, 0, 0, 2, 0, 2, 0, 0, 0, 2, 1, 1, 0,…\n",
      "$ Ticket        \u001b[3m\u001b[90m<chr>\u001b[39m\u001b[23m \"347080\", \"113787\", \"345780\", \"29106\", \"349909\", \"31027\"…\n",
      "$ Fare          \u001b[3m\u001b[90m<dbl>\u001b[39m\u001b[23m 14.4000, 30.5000, 9.5000, 18.7500, 21.0750, 21.0000, 7.9…\n",
      "$ Cabin         \u001b[3m\u001b[90m<chr>\u001b[39m\u001b[23m \"\", \"C30\", \"\", \"\", \"\", \"\", \"\", \"\", \"\", \"\", \"\", \"C22 C26\"…\n",
      "$ Embarked      \u001b[3m\u001b[90m<chr>\u001b[39m\u001b[23m \"S\", \"S\", \"S\", \"S\", \"S\", \"S\", \"S\", \"S\", \"S\", \"S\", \"S\", \"…\n",
      "$ prob_survived \u001b[3m\u001b[90m<dbl>\u001b[39m\u001b[23m 0.05292279, 0.32268328, 0.09972785, 0.44880605, 0.647872…\n",
      "$ pred_survived \u001b[3m\u001b[90m<dbl>\u001b[39m\u001b[23m 0, 0, 0, 0, 1, 0, 0, 0, 0, 1, 0, 1, 1, 0, 0, 0, 1, 0, 0,…\n"
     ]
    }
   ],
   "source": [
    "glimpse(train_data)"
   ]
  },
  {
   "cell_type": "code",
   "execution_count": 10,
   "metadata": {
    "datalore": {
     "hide_input_from_viewers": true,
     "hide_output_from_viewers": true,
     "node_id": "pGBqTFuiABmjo5UpC2hmuU",
     "type": "CODE"
    }
   },
   "outputs": [
    {
     "data": {
      "text/html": []
     },
     "metadata": {},
     "output_type": "display_data"
    }
   ],
   "source": [
    "# Confusion metric\n",
    "conM_train <- table(train_data$pred_survived, train_data$Survived,\n",
    "                    dnn = c(\"Predicted\", \"Actual\"))\n",
    "conM_train"
   ]
  },
  {
   "cell_type": "code",
   "execution_count": 14,
   "metadata": {
    "datalore": {
     "hide_input_from_viewers": true,
     "hide_output_from_viewers": true,
     "node_id": "ZSwqY3eCGSXUJa2IO9xfh4",
     "type": "CODE"
    }
   },
   "outputs": [
    {
     "data": {
      "text/html": [
       "0.813627254509018"
      ]
     },
     "metadata": {},
     "output_type": "display_data"
    }
   ],
   "source": [
    "# Evaluate train model\n",
    "acc_train<- (conM_train[1,1] + conM_train[2,2]) / sum(conM_train)\n",
    "acc_train"
   ]
  },
  {
   "cell_type": "code",
   "execution_count": 15,
   "metadata": {
    "datalore": {
     "hide_input_from_viewers": true,
     "hide_output_from_viewers": true,
     "node_id": "8vNymlsRop18kNXJ3nlR0h",
     "type": "CODE"
    }
   },
   "outputs": [
    {
     "data": {
      "text/html": [
       "0.807291666666667"
      ]
     },
     "metadata": {},
     "output_type": "display_data"
    }
   ],
   "source": [
    "prec_train <- conM_train[2,2] / (conM_train[2,1] + conM_train[2,2]) \n",
    "prec_train"
   ]
  },
  {
   "cell_type": "code",
   "execution_count": 16,
   "metadata": {
    "datalore": {
     "hide_input_from_viewers": true,
     "hide_output_from_viewers": true,
     "node_id": "4inO6p0IdxCVsqi8yZRvaq",
     "type": "CODE"
    }
   },
   "outputs": [
    {
     "data": {
      "text/html": [
       "0.734597156398104"
      ]
     },
     "metadata": {},
     "output_type": "display_data"
    }
   ],
   "source": [
    "rec_train <- conM_train[2,2] / (conM_train[1,2] + conM_train[2,2])\n",
    "rec_train"
   ]
  },
  {
   "cell_type": "code",
   "execution_count": 17,
   "metadata": {
    "datalore": {
     "hide_input_from_viewers": true,
     "hide_output_from_viewers": true,
     "node_id": "XY8znMD81pYYCNwB9oxcZO",
     "type": "CODE"
    }
   },
   "outputs": [
    {
     "data": {
      "text/html": [
       "0.769230769230769"
      ]
     },
     "metadata": {},
     "output_type": "display_data"
    }
   ],
   "source": [
    "f1_train <- 2*(prec_train*rec_train) / (prec_train+rec_train)\n",
    "f1_train"
   ]
  },
  {
   "cell_type": "markdown",
   "metadata": {
    "datalore": {
     "hide_input_from_viewers": true,
     "hide_output_from_viewers": true,
     "node_id": "yNk7yPtYeGjYv2NtmkhBL3",
     "type": "MD"
    }
   },
   "source": [
    "**Test Model**"
   ]
  },
  {
   "cell_type": "code",
   "execution_count": 18,
   "metadata": {
    "datalore": {
     "hide_input_from_viewers": true,
     "hide_output_from_viewers": true,
     "node_id": "3c3HIeKmsV8M7UO6Y8oeig",
     "type": "CODE"
    }
   },
   "outputs": [
    {
     "name": "stdout",
     "output_type": "stream",
     "text": [
      "Rows: 215\n",
      "Columns: 14\n",
      "$ PassengerId   \u001b[3m\u001b[90m<int>\u001b[39m\u001b[23m 5, 14, 16, 19, 23, 24, 26, 28, 35, 38, 41, 42, 50, 63, 6…\n",
      "$ Survived      \u001b[3m\u001b[90m<int>\u001b[39m\u001b[23m 0, 0, 1, 0, 1, 1, 1, 0, 0, 0, 0, 0, 0, 0, 0, 0, 0, 0, 1,…\n",
      "$ Pclass        \u001b[3m\u001b[90m<int>\u001b[39m\u001b[23m 3, 3, 2, 3, 3, 1, 3, 1, 1, 3, 3, 2, 3, 1, 3, 2, 3, 1, 3,…\n",
      "$ Name          \u001b[3m\u001b[90m<chr>\u001b[39m\u001b[23m \"Allen, Mr. William Henry\", \"Andersson, Mr. Anders Johan…\n",
      "$ Sex           \u001b[3m\u001b[90m<fct>\u001b[39m\u001b[23m 1, 1, 0, 0, 0, 1, 0, 1, 1, 1, 0, 0, 0, 1, 1, 1, 0, 1, 0,…\n",
      "$ Age           \u001b[3m\u001b[90m<dbl>\u001b[39m\u001b[23m 35.0, 39.0, 55.0, 31.0, 15.0, 28.0, 38.0, 19.0, 28.0, 21…\n",
      "$ SibSp         \u001b[3m\u001b[90m<int>\u001b[39m\u001b[23m 0, 1, 0, 1, 0, 0, 1, 3, 1, 0, 1, 1, 1, 1, 0, 0, 5, 0, 3,…\n",
      "$ Parch         \u001b[3m\u001b[90m<int>\u001b[39m\u001b[23m 0, 5, 0, 0, 0, 0, 5, 2, 0, 0, 0, 0, 0, 0, 0, 0, 2, 0, 0,…\n",
      "$ Ticket        \u001b[3m\u001b[90m<chr>\u001b[39m\u001b[23m \"373450\", \"347082\", \"248706\", \"345763\", \"330923\", \"11378…\n",
      "$ Fare          \u001b[3m\u001b[90m<dbl>\u001b[39m\u001b[23m 8.0500, 31.2750, 16.0000, 18.0000, 8.0292, 35.5000, 31.3…\n",
      "$ Cabin         \u001b[3m\u001b[90m<chr>\u001b[39m\u001b[23m \"\", \"\", \"\", \"\", \"\", \"A6\", \"\", \"C23 C25 C27\", \"\", \"\", \"\",…\n",
      "$ Embarked      \u001b[3m\u001b[90m<chr>\u001b[39m\u001b[23m \"S\", \"S\", \"S\", \"S\", \"Q\", \"S\", \"S\", \"S\", \"C\", \"S\", \"S\", \"…\n",
      "$ prob_survived \u001b[3m\u001b[90m<dbl>\u001b[39m\u001b[23m 0.04540764, 0.27647257, 0.58158781, 0.34932645, 0.608972…\n",
      "$ pred_survived \u001b[3m\u001b[90m<dbl>\u001b[39m\u001b[23m 0, 0, 1, 0, 1, 1, 1, 1, 0, 0, 0, 1, 0, 0, 0, 0, 0, 1, 0,…\n"
     ]
    },
    {
     "data": {
      "text/plain": [
       "\n",
       "Call:\n",
       "glm(formula = Survived ~ Pclass + Sex + Age + Parch + SibSp, \n",
       "    family = \"binomial\", data = test_data)\n",
       "\n",
       "Deviance Residuals: \n",
       "    Min       1Q   Median       3Q      Max  \n",
       "-2.0263  -0.6280  -0.3163   0.4867   2.5184  \n",
       "\n",
       "Coefficients:\n",
       "            Estimate Std. Error z value Pr(>|z|)    \n",
       "(Intercept)  5.20178    1.01862   5.107 3.28e-07 ***\n",
       "Pclass      -1.39737    0.26870  -5.201 1.99e-07 ***\n",
       "Sex1        -2.73306    0.41124  -6.646 3.01e-11 ***\n",
       "Age         -0.03778    0.01578  -2.394   0.0167 *  \n",
       "Parch        0.53905    0.23515   2.292   0.0219 *  \n",
       "SibSp       -0.46057    0.24839  -1.854   0.0637 .  \n",
       "---\n",
       "Signif. codes:  0 ‘***’ 0.001 ‘**’ 0.01 ‘*’ 0.05 ‘.’ 0.1 ‘ ’ 1\n",
       "\n",
       "(Dispersion parameter for binomial family taken to be 1)\n",
       "\n",
       "    Null deviance: 282.76  on 214  degrees of freedom\n",
       "Residual deviance: 172.53  on 209  degrees of freedom\n",
       "AIC: 184.53\n",
       "\n",
       "Number of Fisher Scoring iterations: 5\n"
      ]
     },
     "metadata": {},
     "output_type": "display_data"
    },
    {
     "data": {
      "text/plain": [
       "         Actual\n",
       "Predicted   0   1\n",
       "        0 119  21\n",
       "        1  17  58"
      ]
     },
     "metadata": {},
     "output_type": "display_data"
    }
   ],
   "source": [
    "test_model <-glm(Survived ~ Pclass + Sex + Age + Parch + SibSp, \n",
    "                 data = test_data, \n",
    "                 family = \"binomial\")\n",
    "summary(test_model)\n",
    "\n",
    "# Predict & Evaluate Test Model\n",
    "test_data$prob_survived <- predict(test_model, type = \"response\")\n",
    "test_data$pred_survived <- ifelse(test_data$prob_survived >= 0.5, 1, 0)\n",
    "glimpse(test_data)\n",
    "\n",
    "# Confusion metric\n",
    "conM_test <- table(test_data$pred_survived, test_data$Survived,\n",
    "                    dnn = c(\"Predicted\", \"Actual\"))\n",
    "conM_test\n",
    "\n",
    "# Evaluate test model\n",
    "acc_test<- (conM_test[1,1] + conM_test[2,2]) / sum(conM_test)\n",
    "prec_test <- conM_test[2,2] / (conM_test[2,1] + conM_test[2,2]) \n",
    "rec_test <- conM_test[2,2] / (conM_test[1,2] + conM_test[2,2]) \n",
    "f1_test <- 2*(prec_test*rec_test) / (prec_test+rec_test)"
   ]
  },
  {
   "cell_type": "markdown",
   "metadata": {
    "datalore": {
     "hide_input_from_viewers": true,
     "hide_output_from_viewers": true,
     "node_id": "OxIvfG5RqL3wKJb1hmievt",
     "type": "MD"
    }
   },
   "source": [
    "**Train model and Test model**"
   ]
  },
  {
   "cell_type": "code",
   "execution_count": 19,
   "metadata": {
    "datalore": {
     "hide_input_from_viewers": true,
     "hide_output_from_viewers": true,
     "node_id": "ZLD9Xz05JslpSNcEItS3ek",
     "type": "CODE"
    }
   },
   "outputs": [
    {
     "data": {
      "text/html": [
       "<table class=\"dataframe\">\n",
       "<caption>A data.frame: 1 × 4</caption>\n",
       "<thead>\n",
       "\t<tr><th scope=col>Accuracy_train</th><th scope=col>Precision_train</th><th scope=col>Recall_train</th><th scope=col>F1_train</th></tr>\n",
       "\t<tr><th scope=col>&lt;dbl&gt;</th><th scope=col>&lt;dbl&gt;</th><th scope=col>&lt;dbl&gt;</th><th scope=col>&lt;dbl&gt;</th></tr>\n",
       "</thead>\n",
       "<tbody>\n",
       "\t<tr><td>0.8136273</td><td>0.8072917</td><td>0.7345972</td><td>0.7692308</td></tr>\n",
       "</tbody>\n",
       "</table>\n"
      ]
     },
     "metadata": {},
     "output_type": "display_data"
    },
    {
     "data": {
      "text/html": [
       "<table class=\"dataframe\">\n",
       "<caption>A data.frame: 1 × 4</caption>\n",
       "<thead>\n",
       "\t<tr><th scope=col>Accuracy_test</th><th scope=col>Precision_test</th><th scope=col>Recall_test</th><th scope=col>F1_test</th></tr>\n",
       "\t<tr><th scope=col>&lt;dbl&gt;</th><th scope=col>&lt;dbl&gt;</th><th scope=col>&lt;dbl&gt;</th><th scope=col>&lt;dbl&gt;</th></tr>\n",
       "</thead>\n",
       "<tbody>\n",
       "\t<tr><td>0.8232558</td><td>0.7733333</td><td>0.7341772</td><td>0.7532468</td></tr>\n",
       "</tbody>\n",
       "</table>\n"
      ]
     },
     "metadata": {},
     "output_type": "display_data"
    }
   ],
   "source": [
    "# Train model\n",
    "data.frame(Accuracy_train = acc_train, \n",
    "           Precision_train = prec_train, \n",
    "           Recall_train = rec_train, \n",
    "           F1_train = f1_train)\n",
    "\n",
    "# Test model\n",
    "data.frame(Accuracy_test = acc_test, \n",
    "           Precision_test = prec_test, \n",
    "           Recall_test = rec_test, \n",
    "           F1_test = f1_test) "
   ]
  }
 ],
 "metadata": {
  "datalore": {
   "base_environment": "minimal",
   "computation_mode": "JUPYTER",
   "package_manager": "conda",
   "packages": [],
   "report_row_ids": [],
   "version": 3
  },
  "kernelspec": {
   "display_name": "R",
   "language": "R",
   "name": "ir"
  },
  "language_info": {
   "codemirror_mode": "r",
   "file_extension": ".r",
   "mimetype": "text/x-r-source",
   "name": "R",
   "pygments_lexer": "r",
   "version": "4.2.3"
  }
 },
 "nbformat": 4,
 "nbformat_minor": 4
}
