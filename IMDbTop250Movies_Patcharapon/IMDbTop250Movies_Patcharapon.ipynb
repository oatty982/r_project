{
 "cells":[
  {
   "cell_type":"code",
   "source":[
    "## IMDB project (web scraping)\n",
    "library(tidyverse)\n",
    "library(rvest)\n",
    "\n",
    "url <- \"https:\/\/www.imdb.com\/chart\/top\/\""
   ],
   "execution_count":9,
   "outputs":[
    
   ],
   "metadata":{
    "datalore":{
     "node_id":"EFxuCdNnVwJ7nkUbpoKyF1",
     "type":"CODE",
     "hide_input_from_viewers":true,
     "hide_output_from_viewers":true
    }
   }
  },
  {
   "cell_type":"code",
   "source":[
    "imdb <- read_html(url)\n",
    "imdb"
   ],
   "execution_count":10,
   "outputs":[
    {
     "data":{
      "text\/plain":[
       "{html_document}\n",
       "<html xmlns:og=\"http:\/\/ogp.me\/ns#\" xmlns:fb=\"http:\/\/www.facebook.com\/2008\/fbml\">\n",
       "[1] <head>\\n<meta http-equiv=\"Content-Type\" content=\"text\/html; charset=UTF-8 ...\n",
       "[2] <body id=\"styleguide-v2\" class=\"fixed\">\\n            <img height=\"1\" widt ..."
      ]
     },
     "metadata":{
      
     },
     "output_type":"display_data"
    }
   ],
   "metadata":{
    "datalore":{
     "node_id":"XviPhYBkd3Ccrtug8lv60b",
     "type":"CODE",
     "hide_input_from_viewers":true,
     "hide_output_from_viewers":true
    }
   }
  },
  {
   "cell_type":"code",
   "source":[
    "imdb_title <- imdb %>%\n",
    "  html_nodes(\"td.titleColumn\") %>%\n",
    "  html_text() %>%\n",
    "  str_remove_all(\"\\n\") %>%\n",
    "  str_trim() %>%\n",
    "  str_replace_all(\"\\\\s+\", \" \") %>%\n",
    "  str_replace_all(\"^[0-9]{1,3}\\\\.\\\\s\", \"\") %>%\n",
    "  str_remove(\"[0-9]{4}\") %>%\n",
    "  str_remove(\"\\\\(\") %>%\n",
    "  str_remove(\"\\\\)\")\n",
    "\n",
    "imdb_year <- imdb %>%\n",
    "  html_nodes(\"td.titleColumn\") %>%\n",
    "  html_text() %>%\n",
    "  str_extract( \"[0-9]{4}\") \n",
    "\n",
    "imdb_rating <- imdb %>%\n",
    "  html_nodes(\"td.imdbRating\") %>%\n",
    "  html_text() %>%\n",
    "  str_remove_all(\"\\n\") %>%\n",
    "  str_replace_all(\"\\\\s+\",\" \")\n",
    "\n",
    "df <- data.frame(imdb_title, imdb_year, imdb_rating)\n",
    "df"
   ],
   "execution_count":11,
   "outputs":[
    {
     "data":{
      "text\/html":[
       "<table class=\"dataframe\">\n",
       "<caption>A data.frame: 250 × 3<\/caption>\n",
       "<thead>\n",
       "\t<tr><th scope=col>imdb_title<\/th><th scope=col>imdb_year<\/th><th scope=col>imdb_rating<\/th><\/tr>\n",
       "\t<tr><th scope=col>&lt;chr&gt;<\/th><th scope=col>&lt;chr&gt;<\/th><th scope=col>&lt;chr&gt;<\/th><\/tr>\n",
       "<\/thead>\n",
       "<tbody>\n",
       "\t<tr><td>The Shawshank Redemption                          <\/td><td>1994<\/td><td> 9.2 <\/td><\/tr>\n",
       "\t<tr><td>The Godfather                                     <\/td><td>1972<\/td><td> 9.2 <\/td><\/tr>\n",
       "\t<tr><td>The Dark Knight                                   <\/td><td>2008<\/td><td> 9.0 <\/td><\/tr>\n",
       "\t<tr><td>The Godfather: Part II                            <\/td><td>1974<\/td><td> 9.0 <\/td><\/tr>\n",
       "\t<tr><td>12 Angry Men                                      <\/td><td>1957<\/td><td> 9.0 <\/td><\/tr>\n",
       "\t<tr><td>Schindler's List                                  <\/td><td>1993<\/td><td> 8.9 <\/td><\/tr>\n",
       "\t<tr><td>The Lord of the Rings: The Return of the King     <\/td><td>2003<\/td><td> 8.9 <\/td><\/tr>\n",
       "\t<tr><td>Pulp Fiction                                      <\/td><td>1994<\/td><td> 8.9 <\/td><\/tr>\n",
       "\t<tr><td>The Lord of the Rings: The Fellowship of the Ring <\/td><td>2001<\/td><td> 8.8 <\/td><\/tr>\n",
       "\t<tr><td>Il buono, il brutto, il cattivo                   <\/td><td>1966<\/td><td> 8.8 <\/td><\/tr>\n",
       "\t<tr><td>Forrest Gump                                      <\/td><td>1994<\/td><td> 8.8 <\/td><\/tr>\n",
       "\t<tr><td>Fight Club                                        <\/td><td>1999<\/td><td> 8.8 <\/td><\/tr>\n",
       "\t<tr><td>Inception                                         <\/td><td>2010<\/td><td> 8.7 <\/td><\/tr>\n",
       "\t<tr><td>The Lord of the Rings: The Two Towers             <\/td><td>2002<\/td><td> 8.7 <\/td><\/tr>\n",
       "\t<tr><td>The Empire Strikes Back                           <\/td><td>1980<\/td><td> 8.7 <\/td><\/tr>\n",
       "\t<tr><td>The Matrix                                        <\/td><td>1999<\/td><td> 8.7 <\/td><\/tr>\n",
       "\t<tr><td>Goodfellas                                        <\/td><td>1990<\/td><td> 8.7 <\/td><\/tr>\n",
       "\t<tr><td>One Flew Over the Cuckoo's Nest                   <\/td><td>1975<\/td><td> 8.6 <\/td><\/tr>\n",
       "\t<tr><td>Se7en                                             <\/td><td>1995<\/td><td> 8.6 <\/td><\/tr>\n",
       "\t<tr><td>Shichinin no samurai                              <\/td><td>1954<\/td><td> 8.6 <\/td><\/tr>\n",
       "\t<tr><td>It's a Wonderful Life                             <\/td><td>1946<\/td><td> 8.6 <\/td><\/tr>\n",
       "\t<tr><td>The Silence of the Lambs                          <\/td><td>1991<\/td><td> 8.6 <\/td><\/tr>\n",
       "\t<tr><td>Saving Private Ryan                               <\/td><td>1998<\/td><td> 8.6 <\/td><\/tr>\n",
       "\t<tr><td>Cidade de Deus                                    <\/td><td>2002<\/td><td> 8.6 <\/td><\/tr>\n",
       "\t<tr><td>La vita è bella                                   <\/td><td>1997<\/td><td> 8.6 <\/td><\/tr>\n",
       "\t<tr><td>The Green Mile                                    <\/td><td>1999<\/td><td> 8.6 <\/td><\/tr>\n",
       "\t<tr><td>Star Wars                                         <\/td><td>1977<\/td><td> 8.6 <\/td><\/tr>\n",
       "\t<tr><td>Interstellar                                      <\/td><td>2014<\/td><td> 8.6 <\/td><\/tr>\n",
       "\t<tr><td>Terminator 2: Judgment Day                        <\/td><td>1991<\/td><td> 8.5 <\/td><\/tr>\n",
       "\t<tr><td>Back to the Future                                <\/td><td>1985<\/td><td> 8.5 <\/td><\/tr>\n",
       "\t<tr><td>⋮<\/td><td>⋮<\/td><td>⋮<\/td><\/tr>\n",
       "\t<tr><td>Network                                                <\/td><td>1976<\/td><td> 8.0 <\/td><\/tr>\n",
       "\t<tr><td>Groundhog Day                                          <\/td><td>1993<\/td><td> 8.0 <\/td><\/tr>\n",
       "\t<tr><td>Ratatouille                                            <\/td><td>2007<\/td><td> 8.0 <\/td><\/tr>\n",
       "\t<tr><td>The Exorcist                                           <\/td><td>1973<\/td><td> 8.0 <\/td><\/tr>\n",
       "\t<tr><td>Hachi: A Dog's Tale                                    <\/td><td>2009<\/td><td> 8.0 <\/td><\/tr>\n",
       "\t<tr><td>The Incredibles                                        <\/td><td>2004<\/td><td> 8.0 <\/td><\/tr>\n",
       "\t<tr><td>The Best Years of Our Lives                            <\/td><td>1946<\/td><td> 8.0 <\/td><\/tr>\n",
       "\t<tr><td>Dersu Uzala                                            <\/td><td>1975<\/td><td> 8.0 <\/td><\/tr>\n",
       "\t<tr><td>Before Sunset                                          <\/td><td>2004<\/td><td> 8.0 <\/td><\/tr>\n",
       "\t<tr><td>Rebecca                                                <\/td><td>1940<\/td><td> 8.0 <\/td><\/tr>\n",
       "\t<tr><td>Babam ve Oglum                                         <\/td><td>2005<\/td><td> 8.0 <\/td><\/tr>\n",
       "\t<tr><td>The Grapes of Wrath                                    <\/td><td>1940<\/td><td> 8.0 <\/td><\/tr>\n",
       "\t<tr><td>Cool Hand Luke                                         <\/td><td>1967<\/td><td> 8.0 <\/td><\/tr>\n",
       "\t<tr><td>To Be or Not to Be                                     <\/td><td>1942<\/td><td> 8.0 <\/td><\/tr>\n",
       "\t<tr><td>Pirates of the Caribbean: The Curse of the Black Pearl <\/td><td>2003<\/td><td> 8.0 <\/td><\/tr>\n",
       "\t<tr><td>La battaglia di Algeri                                 <\/td><td>1966<\/td><td> 8.0 <\/td><\/tr>\n",
       "\t<tr><td>Amores perros                                          <\/td><td>2000<\/td><td> 8.0 <\/td><\/tr>\n",
       "\t<tr><td>Dune: Part One                                         <\/td><td>2021<\/td><td> 8.0 <\/td><\/tr>\n",
       "\t<tr><td>The Sound of Music                                     <\/td><td>1965<\/td><td> 8.0 <\/td><\/tr>\n",
       "\t<tr><td>Life of Brian                                          <\/td><td>1979<\/td><td> 8.0 <\/td><\/tr>\n",
       "\t<tr><td>Les quatre cents coups                                 <\/td><td>1959<\/td><td> 8.0 <\/td><\/tr>\n",
       "\t<tr><td>Persona                                                <\/td><td>1966<\/td><td> 8.0 <\/td><\/tr>\n",
       "\t<tr><td>It Happened One Night                                  <\/td><td>1934<\/td><td> 8.0 <\/td><\/tr>\n",
       "\t<tr><td>La haine                                               <\/td><td>1995<\/td><td> 8.0 <\/td><\/tr>\n",
       "\t<tr><td>Aladdin                                                <\/td><td>1992<\/td><td> 8.0 <\/td><\/tr>\n",
       "\t<tr><td>Beauty and the Beast                                   <\/td><td>1991<\/td><td> 8.0 <\/td><\/tr>\n",
       "\t<tr><td>Gandhi                                                 <\/td><td>1982<\/td><td> 8.0 <\/td><\/tr>\n",
       "\t<tr><td>The Help                                               <\/td><td>2011<\/td><td> 8.0 <\/td><\/tr>\n",
       "\t<tr><td>Ah-ga-ssi                                              <\/td><td>2016<\/td><td> 8.0 <\/td><\/tr>\n",
       "\t<tr><td>Dances with Wolves                                     <\/td><td>1990<\/td><td> 8.0 <\/td><\/tr>\n",
       "<\/tbody>\n",
       "<\/table>\n"
      ]
     },
     "metadata":{
      
     },
     "output_type":"display_data"
    }
   ],
   "metadata":{
    "datalore":{
     "node_id":"T0OUpZnI63IZYnItX71aij",
     "type":"CODE",
     "hide_input_from_viewers":true,
     "hide_output_from_viewers":true
    }
   }
  },
  {
   "cell_type":"code",
   "source":[
    
   ],
   "execution_count":null,
   "outputs":[
    
   ],
   "metadata":{
    "datalore":{
     "node_id":"mzuTaxysMIhQBtLAUugipG",
     "type":"CODE",
     "hide_input_from_viewers":true,
     "hide_output_from_viewers":true
    }
   }
  }
 ],
 "metadata":{
  "kernelspec":{
   "display_name":"R",
   "language":"r",
   "name":"ir"
  },
  "datalore":{
   "computation_mode":"JUPYTER",
   "package_manager":"conda",
   "base_environment":"minimal",
   "packages":[
    
   ],
   "report_row_ids":[
    
   ],
   "version":3
  }
 },
 "nbformat":4,
 "nbformat_minor":4
}